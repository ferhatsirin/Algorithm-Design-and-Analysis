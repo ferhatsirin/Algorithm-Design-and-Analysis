{
 "cells": [
  {
   "cell_type": "code",
   "execution_count": null,
   "metadata": {},
   "outputs": [],
   "source": [
    "\n",
    "def sumArray(arr) : # sumArray sums the elements of array and returns sum\n",
    "    sum =0\n",
    "    for i in range(0,len(arr)) :\n",
    "        sum +=arr[i]\n",
    "\n",
    "    return sum\n",
    "\n",
    "def findMax(arr) : # findMax returns the maximum subset of array that starts at the middle point and goes both  \n",
    "    mid =int((len(arr)-1)/2)                #right and left\n",
    "    sum =0\n",
    "    leftSum =arr[0] -1\n",
    "    start =mid\n",
    "    for i in range(mid,-1,-1) : # First starts at the middle point and sum left  side of array \n",
    "        sum +=arr[i]\n",
    "        if sum > leftSum :    # preserves the maximum value it got \n",
    "            leftSum  =sum\n",
    "            start =i\n",
    "    sum =0\n",
    "    rightSum =arr[mid+1]-1\n",
    "    end =mid+1\n",
    "    for i in range(mid+1,len(arr)): # starts at the middle point and sum right side of array\n",
    "        sum +=arr[i]       \n",
    "        if sum > rightSum :  # preserves the maximum value it got\n",
    "            rightSum =sum\n",
    "            end =i\n",
    "\n",
    "    return arr[start:end+1]  # returns the maximum subset of array that lies at the middle of array \n",
    "\n",
    "\n",
    "\n",
    "def findMaxSubSet(arr) : #findMaxSubSet finds the maximum subset of array \n",
    "    if len(arr)==1 :\n",
    "        return [arr[0]]\n",
    "\n",
    "    midPoint =int((len(arr)-1)/2) # divides array from middle point and looks right side and left side recursively \n",
    "                                         # and looks the middle of array with findMax function in case\n",
    "    arr1 =findMaxSubSet(arr[0:midPoint+1])     # maximum subset resides there \n",
    "    sum1=sumArray(arr1)  #left side\n",
    "\n",
    "    arr2 =findMaxSubSet(arr[midPoint+1:len(arr)]) \n",
    "    sum2 =sumArray(arr2) #right side\n",
    "\n",
    "    arr3 =findMax(arr[0:len(arr)]) # look middle of array here.\n",
    "    sum3 =sumArray(arr3)\n",
    "\n",
    "    if sum1 > max(sum2,sum3) :  # compares sum of each array and returns maximum one\n",
    "        return arr1\n",
    "    elif sum2 > max(sum1,sum3) :\n",
    "        return arr2\n",
    "    else:\n",
    "        return arr3"
   ]
  },
  {
   "cell_type": "markdown",
   "metadata": {},
   "source": [
    "findMaxSubset divides array by 2 and calculates left and right side recursively and calls findMax function to calculate middle of array. We can equate finMaxSubset =T(n) =2T(n/2) + findMax -> findMax function for n size array takes at most O(n) times. Then findMaxSubSet =T(n) =2T(n/2)+O(n) times. With master theorem -> findMaxSubSet takes O(nlog(n)) times."
   ]
  },
  {
   "cell_type": "code",
   "execution_count": null,
   "metadata": {},
   "outputs": [],
   "source": [
    "if __name__ == \"__main__\" :\n",
    "\n",
    "    arr =[]\n",
    "    print(\"Enter numbers in turn, to end loop, enter a letter like 'e' \")\n",
    "    i =1\n",
    "    while True  :\n",
    "        print(\"Enter %d. number : \" %(i) ,end=\"\")\n",
    "        try :\n",
    "            arr.append(int(input()))\n",
    "            i +=1\n",
    "        except :\n",
    "            break\n",
    "\n",
    "\n",
    "    print(\"Your array is : \",arr)\n",
    "    subSet =findMaxSubSet(arr)\n",
    "    sum =sumArray(subSet)\n",
    "\n",
    "    print(\"Largest subset is :\",findMaxSubSet(arr),\" = \",sum)"
   ]
  }
 ],
 "metadata": {
  "kernelspec": {
   "display_name": "Python 3",
   "language": "python",
   "name": "python3"
  },
  "language_info": {
   "codemirror_mode": {
    "name": "ipython",
    "version": 3
   },
   "file_extension": ".py",
   "mimetype": "text/x-python",
   "name": "python",
   "nbconvert_exporter": "python",
   "pygments_lexer": "ipython3",
   "version": "3.6.7"
  }
 },
 "nbformat": 4,
 "nbformat_minor": 2
}
