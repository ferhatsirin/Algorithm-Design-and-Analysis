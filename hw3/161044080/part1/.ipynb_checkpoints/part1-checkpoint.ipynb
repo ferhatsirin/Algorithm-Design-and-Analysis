{
 "cells": [
  {
   "cell_type": "code",
   "execution_count": 4,
   "metadata": {},
   "outputs": [],
   "source": [
    "from xlrd import open_workbook\n",
    "from collections import defaultdict\n",
    "from collections import deque\n",
    "\n",
    "def breadthFirstSearch (graph, start) :  # Breadth first search takes graph and root vertex where search begins\n",
    "    queue = deque()  # prepare queue for visited vertex\n",
    "    visited = [False] * (len(graph)+1)  # visited vertex is marked \n",
    "    queue.append(start)\n",
    "    visited[rootV] =True\n",
    "          \n",
    "    print(\"Breadth First Search Visit Order : \",end =\"\") #After preparing necessary variables, we call breadthSearch() \n",
    "    breadthSearch(graph,queue,visited) \n",
    "    \n",
    "def breadthSearch(graph,queue,visited): # Do breadth first search recursively\n",
    "    if queue :\n",
    "        vertex = queue.popleft()  # takes a vertex from queue\n",
    "        for s in graph[vertex]:  # visits all neighbour vertices \n",
    "            if visited[s] == False:\n",
    "                queue.append(s)\n",
    "                visited[s] = True  # visited vertices are marked as True\n",
    "\n",
    "        if queue :\n",
    "            print(vertex ,\"-> \",end =\"\")\n",
    "        else :\n",
    "            print(vertex)\n",
    "\n",
    "        breadthSearch(graph,queue,visited) # After visit all neighbour of that vertex then make a recursive call to\n",
    "                                         # visit others"
   ]
  },
  {
   "cell_type": "markdown",
   "metadata": {},
   "source": [
    "BreadtFirstSearch function prepares only necessary variables and calls breadthSearch. BreadthFirstSearch takes constant time O(1). breadthSearch function runs a for loop and makes recursive calls. If E number of edges and V number of vertices then breadthSearch takes O(E+V) times.BreadthFirstSearch + breadthSearch takes O(1)+ O(E+V) = O(E+V) times "
   ]
  },
  {
   "cell_type": "code",
   "execution_count": 2,
   "metadata": {},
   "outputs": [],
   "source": [
    "def depthFirstSearch(graph,vertex,visited =None) : # depthFirstSearch takes graph, a root vertex and visited set \n",
    "    if visited is None:                                 # to see which vertices visited\n",
    "        visited =set() \n",
    "        visited.add(vertex) # add visited vertices to set\n",
    "\n",
    "        print (\"Depth First Search Visit Order : \",end =\"\")\n",
    "\n",
    "    else :\n",
    "        visited.add(vertex) \n",
    "\n",
    "    if len(visited) <len(graph) : # print visited vertices \n",
    "        print(vertex,\"-> \",end=\"\")\n",
    "    else :\n",
    "        print(vertex)\n",
    "\n",
    "    for s in graph[vertex] : # look for the neighbor vertex and visit it\n",
    "        if s not in visited : \n",
    "            depthFirstSearch(graph,s,visited) # recursice call for neighbour vertex "
   ]
  },
  {
   "cell_type": "markdown",
   "metadata": {},
   "source": [
    "depthFirstSearch makes recursive calls inside the for loop and goes deeply through neighbour vertices. For E edges and V vertices depthFirstSearch takes at most O(E+V) times"
   ]
  },
  {
   "cell_type": "code",
   "execution_count": 5,
   "metadata": {},
   "outputs": [
    {
     "name": "stdout",
     "output_type": "stream",
     "text": [
      "Breadth First Search Visit Order : 1 -> 2 -> 3 -> 4 -> 5 -> 8 -> 6 -> 9 -> 10 -> 7\n",
      "Depth First Search Visit Order : 1 -> 2 -> 4 -> 5 -> 6 -> 7 -> 8 -> 9 -> 10 -> 3\n"
     ]
    }
   ],
   "source": [
    "if __name__ == \"__main__\" :\n",
    "    graph =defaultdict(list)\n",
    "\n",
    "    file =open_workbook(\"Graph_data.XLS\")\n",
    "    sheet =file.sheet_by_index(0)\n",
    "    rootV =int(sheet.cell(0,1).value)\n",
    "    for x in range(3,sheet.nrows) :\n",
    "        graph[int(sheet.cell(x,0).value)].append(int(sheet.cell(x,1).value))\n",
    "        graph[int(sheet.cell(x,1).value)]\n",
    "\n",
    "    breadthFirstSearch(graph,rootV)\n",
    "    depthFirstSearch(graph,rootV)"
   ]
  },
  {
   "cell_type": "markdown",
   "metadata": {},
   "source": [
    "Main functions read the \"Graph_data.XLS\" file and calls breadthFirstSearch and depthFirstSearch respectively"
   ]
  }
 ],
 "metadata": {
  "kernelspec": {
   "display_name": "Python 3",
   "language": "python",
   "name": "python3"
  },
  "language_info": {
   "codemirror_mode": {
    "name": "ipython",
    "version": 3
   },
   "file_extension": ".py",
   "mimetype": "text/x-python",
   "name": "python",
   "nbconvert_exporter": "python",
   "pygments_lexer": "ipython3",
   "version": "3.6.7"
  }
 },
 "nbformat": 4,
 "nbformat_minor": 2
}
