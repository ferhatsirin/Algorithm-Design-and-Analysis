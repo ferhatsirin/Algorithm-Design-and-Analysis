{
 "cells": [
  {
   "cell_type": "code",
   "execution_count": 1,
   "metadata": {},
   "outputs": [],
   "source": [
    "def changePlayer(player) : # changes player \n",
    "    if player ==\"Player1\":  # if player1 then -> player2 \n",
    "        return \"Player2\"\n",
    "    else :\n",
    "        return \"Player1\"\n",
    "    \n",
    " # player1 starts first \n",
    "def gameNim(n,m,player =\"Player1\",path =\"\") : # n number of chips in the pile,  \n",
    "    if n <= m:                                    # m number of chips a player can take at most                                  \n",
    "        print(path,player ,\"takes \",n,\" chips and wins\") # player, that takes last chips, wins\n",
    "    else :\n",
    "        for i in range(1,m+1): # player can take number of chips in range(1,m)\n",
    "            newPath =path +str(player)+\" takes \"+str(i)+\" chips, \" # path for every combination\n",
    "            gameNim(n-i,m,changePlayer(player),newPath) #for every combination makes a recursive call"
   ]
  },
  {
   "cell_type": "markdown",
   "metadata": {},
   "source": [
    "gameNim function calculates every combination and makes recursive calls by decreasing size of chips in the pile.Since gameNim calculates every combination which is C(n,m), then gameNim take at most O((n/m)^m) times"
   ]
  },
  {
   "cell_type": "code",
   "execution_count": 2,
   "metadata": {},
   "outputs": [
    {
     "name": "stdout",
     "output_type": "stream",
     "text": [
      "Enter total number of chips in the pile : 5\n",
      "How many chips can a player take at most? : 3\n",
      "Player1 takes 1 chips, Player2 takes 1 chips,  Player1 takes  3  chips and wins\n",
      "Player1 takes 1 chips, Player2 takes 2 chips,  Player1 takes  2  chips and wins\n",
      "Player1 takes 1 chips, Player2 takes 3 chips,  Player1 takes  1  chips and wins\n",
      "Player1 takes 2 chips,  Player2 takes  3  chips and wins\n",
      "Player1 takes 3 chips,  Player2 takes  2  chips and wins\n"
     ]
    }
   ],
   "source": [
    "if __name__ == \"__main__\" :\n",
    "    print(\"Enter total number of chips in the pile : \",end=\"\")\n",
    "    n = int(input())\n",
    "    print(\"How many chips can a player take at most? : \",end=\"\")\n",
    "    m =int(input())\n",
    "    gameNim(n,m)"
   ]
  },
  {
   "cell_type": "markdown",
   "metadata": {},
   "source": [
    "Main function takes n and m numbers and calculates every combination and prints winner."
   ]
  }
 ],
 "metadata": {
  "kernelspec": {
   "display_name": "Python 3",
   "language": "python",
   "name": "python3"
  },
  "language_info": {
   "codemirror_mode": {
    "name": "ipython",
    "version": 3
   },
   "file_extension": ".py",
   "mimetype": "text/x-python",
   "name": "python",
   "nbconvert_exporter": "python",
   "pygments_lexer": "ipython3",
   "version": "3.6.7"
  }
 },
 "nbformat": 4,
 "nbformat_minor": 2
}
