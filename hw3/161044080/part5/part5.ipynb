{
 "cells": [
  {
   "cell_type": "code",
   "execution_count": 1,
   "metadata": {},
   "outputs": [],
   "source": [
    "def checkPattern(str,pattern,patternList): #checkPattern takes a string, a pattern and a pattern list\n",
    "                                             #and checks if pattern is valid for the given string\n",
    "    if len(str) == 0 and len(pattern) == 0 :# if both reachs end then they are equal \n",
    "        return True\n",
    "\n",
    "    if len(pattern)  ==0 : # if one of them ends before the other then they can not be equal.\n",
    "        print(\"Pattern is not valid for a given string because remaining string \\\"%s\\\" does not have any match\" %(str))\n",
    "        return False\n",
    "    if len(str) == 0:\n",
    "        print(\"Pattern is not valid for a given string because remaining pattern \\\"%s\\\" does not have any match\" % (pattern))\n",
    "        return False\n",
    "\n",
    "    if patternList[pattern[0]] ==str[0:len(patternList[pattern[0]])] : #checks that if representation of pattern is equal to string or not \n",
    "        return checkPattern(str[len(patternList[pattern[0]]):],pattern[1:],patternList) # if they are equal then makes a recursive call to check remaining string.\n",
    "    else :\n",
    "        print(\"Pattern is not valid for a given string because string's \\\"%s\\\" does not match with pattern's \\\"%s\\\"->%s \" % (str[0:len(patternList[pattern[0]])],pattern[0],patternList[pattern[0]]))\n",
    "        return False"
   ]
  },
  {
   "cell_type": "markdown",
   "metadata": {},
   "source": [
    "checkPattern takes first letter from representation of pattern and compare it with the string. If they are equal then makes a recursie call for the remaining pattern and string. We can equate the checkPattern to T(n) =T(n-1)+1\n",
    "After solving the recurrence ->  T(n) = O(n). So checkPattern takes O(n) times at most."
   ]
  },
  {
   "cell_type": "code",
   "execution_count": 2,
   "metadata": {},
   "outputs": [
    {
     "name": "stdout",
     "output_type": "stream",
     "text": [
      "First create your pattern list\n",
      "To create a pattern list first enter a string then its representation like \"A\" -> \"to\"\n",
      "Enter -1 to exit the loop\n",
      "Enter a string : A\n",
      "Enter representation of \"A\" : to\n",
      "Enter a string : B\n",
      "Enter representation of \"B\" : be\n",
      "Enter a string : C\n",
      "Enter representation of \"C\" : or\n",
      "Enter a string : D\n",
      "Enter representation of \"D\" : not\n",
      "Enter a string : -1\n",
      "Your pattern list is :  {'A': 'to', 'B': 'be', 'C': 'or', 'D': 'not'}\n",
      "Now, enter your string : tobeornottobe\n",
      "Now, enter your pattern to check if given string is valid for it : ABCDAB\n",
      "Pattern \"ABCDAB\" is valid for given string \"tobeornottobe\" \n",
      "Do you want to use the program with the same pattern list -> yes or no : no\n"
     ]
    }
   ],
   "source": [
    "if __name__ == \"__main__\" :\n",
    "    print(\"First create your pattern list\")\n",
    "    print(\"To create a pattern list first enter a string then its representation like \\\"A\\\" -> \\\"to\\\"\")\n",
    "    print(\"Enter -1 to exit the loop\")\n",
    "    patternList =dict()\n",
    "    while True :\n",
    "        print(\"Enter a string : \",end =\"\")\n",
    "        str =input()\n",
    "        if str.isalpha() :\n",
    "            print(\"Enter representation of \\\"\"+str+\"\\\" : \",end=\"\")\n",
    "            patternList[str] = input()\n",
    "        else :\n",
    "            break\n",
    "\n",
    "    print(\"Your pattern list is : \",patternList)\n",
    "    choice =\"yes\"\n",
    "    while choice[0].lower() ==\"y\":\n",
    "        print(\"Now, enter your string : \",end=\"\")\n",
    "        str =input()\n",
    "        print(\"Now, enter your pattern to check if given string is valid for it : \",end=\"\")\n",
    "        pattern =input()\n",
    "        result =checkPattern(str,pattern,patternList)\n",
    "        if result :\n",
    "            print(\"Pattern \\\"%s\\\" is valid for given string \\\"%s\\\" \"%(pattern,str))\n",
    "\n",
    "        print(\"Do you want to use the program with the same pattern list -> yes or no : \",end =\"\")\n",
    "        choice =input()\n"
   ]
  },
  {
   "cell_type": "markdown",
   "metadata": {},
   "source": [
    "Main function takes a pattern list from user, then in a loop, take a string and a pattern then calls the checkPattern and prints result. After got the result, we can continue with same pattern list."
   ]
  }
 ],
 "metadata": {
  "kernelspec": {
   "display_name": "Python 3",
   "language": "python",
   "name": "python3"
  },
  "language_info": {
   "codemirror_mode": {
    "name": "ipython",
    "version": 3
   },
   "file_extension": ".py",
   "mimetype": "text/x-python",
   "name": "python",
   "nbconvert_exporter": "python",
   "pygments_lexer": "ipython3",
   "version": "3.6.7"
  }
 },
 "nbformat": 4,
 "nbformat_minor": 2
}
