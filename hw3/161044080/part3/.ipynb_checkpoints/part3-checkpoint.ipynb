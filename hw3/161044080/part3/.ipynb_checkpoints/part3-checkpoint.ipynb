{
 "cells": [
  {
   "cell_type": "code",
   "execution_count": 1,
   "metadata": {},
   "outputs": [],
   "source": [
    "# low start index, high end index\n",
    "def search(arr,low,high): # search algorithm looks if there are indices that A[i] =i \n",
    "    if high >= low : \n",
    "        midPoint =int((high+low)/2) # First looks the middle point\n",
    "        if arr[midPoint] == midPoint :\n",
    "            print (\"A[%d] = %d \"%(midPoint,midPoint))\n",
    "        if midPoint <= arr[midPoint] : # if A[midPoint] is greater than midPoint that means that there can be fix points\n",
    "            search(arr,low,midPoint-1)      # at left side of array \n",
    "        if arr[midPoint] <= midPoint: # if A[midPoint] is smaller than midPoint that means that there can be fix points\n",
    "            search(arr,midPoint+1,high)        # at right side of array"
   ]
  },
  {
   "cell_type": "markdown",
   "metadata": {},
   "source": [
    "search function divides array by 2 at every recursive call. We can equate search function to T(n) =T(n/2)+ O(1) with master theorem T(n) = O(log(n)) times."
   ]
  },
  {
   "cell_type": "code",
   "execution_count": 3,
   "metadata": {
    "scrolled": true
   },
   "outputs": [
    {
     "name": "stdout",
     "output_type": "stream",
     "text": [
      "Enter numbers in turn, to end loop, enter a letter like 'e' \n",
      "Enter 0. number : -1\n",
      "Enter 1. number : 0\n",
      "Enter 2. number : 1\n",
      "Enter 3. number : 3\n",
      "Enter 4. number : 4\n",
      "Enter 5. number : 5\n",
      "Enter 6. number : 9\n",
      "Enter 7. number : 11\n",
      "Enter 8. number : p\n",
      "Your array is :  [-1, 0, 1, 3, 4, 5, 9, 11]\n",
      "A[3] = 3 \n",
      "A[5] = 5 \n",
      "A[4] = 4 \n"
     ]
    }
   ],
   "source": [
    "if __name__ == \"__main__\" :\n",
    "\n",
    "    arr =[]\n",
    "    print(\"Enter numbers in turn, to end loop, enter a letter like 'e' \")\n",
    "    i =0\n",
    "    while True  :\n",
    "        print(\"Enter %d. number : \" %(i) ,end=\"\")\n",
    "        try :\n",
    "            arr.append(int(input()))\n",
    "            i +=1\n",
    "        except :\n",
    "            break\n",
    "\n",
    "    arr.sort()\n",
    "    print(\"Your array is : \",arr)\n",
    "    search(arr,0,len(arr)-1)"
   ]
  },
  {
   "cell_type": "markdown",
   "metadata": {},
   "source": [
    "Main function asks the user to enter a sorted array.If array not sorted, it sorts itself. After taken the sorted array, calls the search function and prints result."
   ]
  }
 ],
 "metadata": {
  "kernelspec": {
   "display_name": "Python 3",
   "language": "python",
   "name": "python3"
  },
  "language_info": {
   "codemirror_mode": {
    "name": "ipython",
    "version": 3
   },
   "file_extension": ".py",
   "mimetype": "text/x-python",
   "name": "python",
   "nbconvert_exporter": "python",
   "pygments_lexer": "ipython3",
   "version": "3.6.7"
  }
 },
 "nbformat": 4,
 "nbformat_minor": 2
}
